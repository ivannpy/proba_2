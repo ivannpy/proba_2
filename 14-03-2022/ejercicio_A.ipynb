{
 "cells": [
  {
   "cell_type": "markdown",
   "id": "9399721b-f315-4e68-9187-370a1383790f",
   "metadata": {},
   "source": [
    "# Probabilidad 2 | Grupo 9043\n",
    "### Distribución multinomial\n",
    "#### Por: Jorge Iván Reyes Hernández\n",
    "15-03-2022"
   ]
  },
  {
   "cell_type": "markdown",
   "id": "ff4b5225-b1b1-4d7f-a97c-de30b6e9cc25",
   "metadata": {},
   "source": [
    "Un grupo de adultos que quieren obtener su primer permiso para conducir contiene un $50 \\%$ de conductores de bajo riesgo, un $30 \\%$ de conductores de riesgo moderado y un $20 \\%$ de conductores de alto riesgo.\n",
    "Como estos conductores no tienen antecedentes, la compañía decide atenderlos de manera aleatoria. Este mes, la companía de seguros recibe a cuatro conductores (seleccionados al azar) que buscan obtener su primer permiso para conducir. \n",
    "Calcula la probabilidad de que este grupo de 4 conductores contenga al menos dos conductores de alto riesgo más que los de bajo riesgo.\n",
    "\n",
    "1. 0.006\n",
    "2. 0.012\n",
    "3. 0.018\n",
    "4. 0.049\n",
    "5. 0.073"
   ]
  },
  {
   "cell_type": "markdown",
   "id": "0da615cf-014a-4e2a-9688-6c237e546824",
   "metadata": {},
   "source": [
    "El problema nos habla de un grupo de conductores entre los cuales hay conductores de 3 tipos: de bajo riesgo, de riesgo moderado y de alto riesgo. Entonces es natural modelar el problema con una distribución multinomial.\n",
    "\n",
    "Sean $X, Y, Z$ el número de conductores de bajo riesgo, de riesgo moderado y de alto riesgo en el grupo seleccionado, respectivamente.\n",
    "\n",
    "Notemos que $X, Y$ y $Z$ son variables aleatorias, pues no sabemos cuántos condutores de cada tipo habrá en el grupo de 4 conductores seleccionado.\n",
    "\n",
    "Como el grupo seleccionado es de 4 conductores, los posibles valores para $X, Y$ y  $Z$ (es decir, sus soportes) son:\n",
    "\n",
    "- $sop(X) = \\{0,1,2,3,4\\}$\n",
    "- $sop(Y) = \\{0,1,2,3,4\\}$\n",
    "- $sop(Z) = \\{0,1,2,3,4\\}$"
   ]
  },
  {
   "cell_type": "code",
   "execution_count": 1,
   "id": "22c25466-1784-40a5-a867-520d86c7da44",
   "metadata": {},
   "outputs": [],
   "source": [
    "# Importamos las librerias a usar\n",
    "\n",
    "from itertools import product\n",
    "import numpy as np\n",
    "import scipy.stats as stats\n"
   ]
  },
  {
   "cell_type": "code",
   "execution_count": 2,
   "id": "85b5e665-10b5-4b29-afd8-f13554dfcd41",
   "metadata": {},
   "outputs": [],
   "source": [
    "# Definimos los soportes\n",
    "\n",
    "sop_x = np.arange(0,5)\n",
    "sop_y = np.arange(0,5)\n",
    "sop_z = np.arange(0,5)\n"
   ]
  },
  {
   "cell_type": "code",
   "execution_count": 3,
   "id": "108c81d5",
   "metadata": {},
   "outputs": [
    {
     "data": {
      "text/plain": [
       "array([0, 1, 2, 3, 4])"
      ]
     },
     "execution_count": 3,
     "metadata": {},
     "output_type": "execute_result"
    }
   ],
   "source": [
    "sop_x"
   ]
  },
  {
   "cell_type": "markdown",
   "id": "e4ee8d78-4e15-4587-830e-116a8563665e",
   "metadata": {},
   "source": [
    "Por ejemplo, si de los 4 conductores seleccionados hay 2 de bajo riesgo, $X=2$, y dos de riesgo moderado, $Y = 2$, entonces debe haber 0 de alto riesgo, $Z=0$.\n",
    "\n",
    "Es decir, se debe cumplir que $X+Y+Z=4$.\n",
    "\n",
    "Como ya se mencionó, el modelo apropiado para este problema es multinomial con $n = 4$:\n",
    "$$\n",
    "    f_{X,Y,Z} (x,y,z) = \\mathbb{P}(X=x, Y=y, Z=z) = \\frac{n!}{x!y!z!} p_1^x p_2^y p_3^z\n",
    "$$\n",
    "Además conocemos quiénes son $p_1, p_2 \\text{ y } p_3$, pues por hipótesis sabemos que de entre todos los conductores interesados en sacar su primer permiso para conducir, el $50\\%$ es de bajo riesgo, el $30\\%$ es de riesgo moderado y el $20\\%$ es de alto riesgo, es decir:\n",
    "- $p_1 = 0.5$\n",
    "- $p_2 = 0.3$\n",
    "- $p_3 = 0.2$\n",
    "\n"
   ]
  },
  {
   "cell_type": "code",
   "execution_count": 4,
   "id": "06c78bc2-fd77-42fb-bb19-411791fc8895",
   "metadata": {},
   "outputs": [],
   "source": [
    "# Definimos las p_i's\n",
    "\n",
    "p_1 = 0.5\n",
    "p_2 = 0.3\n",
    "p_3 = 0.2\n"
   ]
  },
  {
   "cell_type": "markdown",
   "id": "c2d12551-5520-429a-a2d8-cf96d5dd277b",
   "metadata": {},
   "source": [
    "Por otro lado, nos interesa calcular la probabilidad de que en el grupo de 4 personas haya al menos dos conductores de alto riesgo más que los de bajo riesgo, es decir, nos interesa\n",
    "$$\n",
    "\\mathbb{P}(Z\\geq X+2)\n",
    "$$"
   ]
  },
  {
   "cell_type": "code",
   "execution_count": 5,
   "id": "b47356ac-3963-45c0-97f9-d8db1fd40fee",
   "metadata": {
    "tags": []
   },
   "outputs": [
    {
     "name": "stdout",
     "output_type": "stream",
     "text": [
      "(0, 0, 0)\n",
      "(0, 0, 1)\n",
      "(0, 0, 2)\n",
      "(0, 0, 3)\n",
      "(0, 0, 4)\n",
      "(0, 1, 0)\n",
      "(0, 1, 1)\n",
      "(0, 1, 2)\n",
      "(0, 1, 3)\n",
      "(0, 1, 4)\n",
      "(0, 2, 0)\n",
      "(0, 2, 1)\n",
      "(0, 2, 2)\n",
      "(0, 2, 3)\n",
      "(0, 2, 4)\n",
      "(0, 3, 0)\n",
      "(0, 3, 1)\n",
      "(0, 3, 2)\n",
      "(0, 3, 3)\n",
      "(0, 3, 4)\n",
      "(0, 4, 0)\n",
      "(0, 4, 1)\n",
      "(0, 4, 2)\n",
      "(0, 4, 3)\n",
      "(0, 4, 4)\n",
      "(1, 0, 0)\n",
      "(1, 0, 1)\n",
      "(1, 0, 2)\n",
      "(1, 0, 3)\n",
      "(1, 0, 4)\n",
      "(1, 1, 0)\n",
      "(1, 1, 1)\n",
      "(1, 1, 2)\n",
      "(1, 1, 3)\n",
      "(1, 1, 4)\n",
      "(1, 2, 0)\n",
      "(1, 2, 1)\n",
      "(1, 2, 2)\n",
      "(1, 2, 3)\n",
      "(1, 2, 4)\n",
      "(1, 3, 0)\n",
      "(1, 3, 1)\n",
      "(1, 3, 2)\n",
      "(1, 3, 3)\n",
      "(1, 3, 4)\n",
      "(1, 4, 0)\n",
      "(1, 4, 1)\n",
      "(1, 4, 2)\n",
      "(1, 4, 3)\n",
      "(1, 4, 4)\n",
      "(2, 0, 0)\n",
      "(2, 0, 1)\n",
      "(2, 0, 2)\n",
      "(2, 0, 3)\n",
      "(2, 0, 4)\n",
      "(2, 1, 0)\n",
      "(2, 1, 1)\n",
      "(2, 1, 2)\n",
      "(2, 1, 3)\n",
      "(2, 1, 4)\n",
      "(2, 2, 0)\n",
      "(2, 2, 1)\n",
      "(2, 2, 2)\n",
      "(2, 2, 3)\n",
      "(2, 2, 4)\n",
      "(2, 3, 0)\n",
      "(2, 3, 1)\n",
      "(2, 3, 2)\n",
      "(2, 3, 3)\n",
      "(2, 3, 4)\n",
      "(2, 4, 0)\n",
      "(2, 4, 1)\n",
      "(2, 4, 2)\n",
      "(2, 4, 3)\n",
      "(2, 4, 4)\n",
      "(3, 0, 0)\n",
      "(3, 0, 1)\n",
      "(3, 0, 2)\n",
      "(3, 0, 3)\n",
      "(3, 0, 4)\n",
      "(3, 1, 0)\n",
      "(3, 1, 1)\n",
      "(3, 1, 2)\n",
      "(3, 1, 3)\n",
      "(3, 1, 4)\n",
      "(3, 2, 0)\n",
      "(3, 2, 1)\n",
      "(3, 2, 2)\n",
      "(3, 2, 3)\n",
      "(3, 2, 4)\n",
      "(3, 3, 0)\n",
      "(3, 3, 1)\n",
      "(3, 3, 2)\n",
      "(3, 3, 3)\n",
      "(3, 3, 4)\n",
      "(3, 4, 0)\n",
      "(3, 4, 1)\n",
      "(3, 4, 2)\n",
      "(3, 4, 3)\n",
      "(3, 4, 4)\n",
      "(4, 0, 0)\n",
      "(4, 0, 1)\n",
      "(4, 0, 2)\n",
      "(4, 0, 3)\n",
      "(4, 0, 4)\n",
      "(4, 1, 0)\n",
      "(4, 1, 1)\n",
      "(4, 1, 2)\n",
      "(4, 1, 3)\n",
      "(4, 1, 4)\n",
      "(4, 2, 0)\n",
      "(4, 2, 1)\n",
      "(4, 2, 2)\n",
      "(4, 2, 3)\n",
      "(4, 2, 4)\n",
      "(4, 3, 0)\n",
      "(4, 3, 1)\n",
      "(4, 3, 2)\n",
      "(4, 3, 3)\n",
      "(4, 3, 4)\n",
      "(4, 4, 0)\n",
      "(4, 4, 1)\n",
      "(4, 4, 2)\n",
      "(4, 4, 3)\n",
      "(4, 4, 4)\n"
     ]
    }
   ],
   "source": [
    "# Producto cartesiano\n",
    "\n",
    "for u in product(sop_x, sop_y, sop_z):\n",
    "    print(u)\n"
   ]
  },
  {
   "cell_type": "code",
   "execution_count": 6,
   "id": "39fe9d3f-2f73-4fc0-b744-b5fce8045f06",
   "metadata": {},
   "outputs": [],
   "source": [
    "# Calculamos la probabilidad\n",
    "\n",
    "prob = 0\n",
    "for (x,y,z) in product(sop_x, sop_y, sop_z):\n",
    "    if z >= x + 2 and x + y + z == 4:\n",
    "            prob += stats.multinomial.pmf((x,y,z), n=4, p=(p_1, p_2, p_3))\n"
   ]
  },
  {
   "cell_type": "code",
   "execution_count": 7,
   "id": "f4ad8c28-5c4a-45ec-8b58-ef7cc29d6ed3",
   "metadata": {},
   "outputs": [
    {
     "data": {
      "text/plain": [
       "0.04879999999999997"
      ]
     },
     "execution_count": 7,
     "metadata": {},
     "output_type": "execute_result"
    }
   ],
   "source": [
    "prob\n"
   ]
  },
  {
   "cell_type": "markdown",
   "id": "ee41daf2",
   "metadata": {},
   "source": [
    "__Segunda forma de calcular el soporte__"
   ]
  },
  {
   "cell_type": "code",
   "execution_count": 8,
   "id": "9e9abefb-b762-40a3-93ff-c335f0ddafdc",
   "metadata": {},
   "outputs": [],
   "source": [
    "# Definimos soporte de f, no de X, Y y Z\n",
    "\n",
    "sop_f = [(x,y,z) for (x,y,z) in product(sop_x, sop_y, sop_z) if x + y + z == 4] # list comprehesion\n"
   ]
  },
  {
   "cell_type": "code",
   "execution_count": 9,
   "id": "f267f0ad",
   "metadata": {
    "collapsed": false,
    "jupyter": {
     "outputs_hidden": false
    },
    "pycharm": {
     "name": "#%%\n"
    }
   },
   "outputs": [
    {
     "data": {
      "text/plain": [
       "[(0, 0, 4),\n",
       " (0, 1, 3),\n",
       " (0, 2, 2),\n",
       " (0, 3, 1),\n",
       " (0, 4, 0),\n",
       " (1, 0, 3),\n",
       " (1, 1, 2),\n",
       " (1, 2, 1),\n",
       " (1, 3, 0),\n",
       " (2, 0, 2),\n",
       " (2, 1, 1),\n",
       " (2, 2, 0),\n",
       " (3, 0, 1),\n",
       " (3, 1, 0),\n",
       " (4, 0, 0)]"
      ]
     },
     "execution_count": 9,
     "metadata": {},
     "output_type": "execute_result"
    }
   ],
   "source": [
    "sop_f\n"
   ]
  },
  {
   "cell_type": "code",
   "execution_count": 10,
   "id": "808949af-dc80-493d-980c-e75728afb909",
   "metadata": {
    "pycharm": {
     "name": "#%%\n"
    }
   },
   "outputs": [
    {
     "name": "stdout",
     "output_type": "stream",
     "text": [
      "0.04879999999999997\n"
     ]
    }
   ],
   "source": [
    "# Calculamos la probabildad\n",
    "\n",
    "prob = 0\n",
    "for (x,y,z) in sop_f:\n",
    "    if z >= x + 2:\n",
    "        prob += stats.multinomial.pmf((x,y,z), n=4, p=(p_1, p_2, p_3))\n",
    "\n",
    "print(prob)\n"
   ]
  }
 ],
 "metadata": {
  "kernelspec": {
   "display_name": "Python 3 (ipykernel)",
   "language": "python",
   "name": "python3"
  },
  "language_info": {
   "codemirror_mode": {
    "name": "ipython",
    "version": 3
   },
   "file_extension": ".py",
   "mimetype": "text/x-python",
   "name": "python",
   "nbconvert_exporter": "python",
   "pygments_lexer": "ipython3",
   "version": "3.8.12"
  }
 },
 "nbformat": 4,
 "nbformat_minor": 5
}
