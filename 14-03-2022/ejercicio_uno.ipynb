{
 "cells": [
  {
   "cell_type": "markdown",
   "id": "dffd6b1b-86ac-4919-a870-eb257258e2f3",
   "metadata": {},
   "source": [
    "# Probabilidad 2 | Grupo 9043\n",
    "### Distribución multinomial\n",
    "#### Por: Jorge Iván Reyes Hernández\n",
    "15-03-2022"
   ]
  },
  {
   "cell_type": "markdown",
   "id": "551d8bd7-b771-4b70-b63d-74e3695af94e",
   "metadata": {},
   "source": [
    "Un grupo de adultos que quieren obtener su primer permiso para conducir contiene un $50 \\%$ de conductores de bajo riesgo, un $30 \\%$ de conductores de riesgo moderado y un $20 \\%$ de conductores de alto riesgo.\n",
    "Como estos conductores no tienen antecedentes, la compañía decide atenderlos de manera aleatoria. Este mes, la companía de seguros recibe a cuatro conductores (seleccionados al azar) que buscan obtener su primer permiso para conducir. \n",
    "Calcula la probabilidad de que este grupo de 4 conductores contenga al menos dos conductores de alto riesgo más que los de bajo riesgo.\n",
    "\n",
    "1. 0.006\n",
    "2. 0.012\n",
    "3. 0.018\n",
    "4. 0.049\n",
    "5. 0.073"
   ]
  },
  {
   "cell_type": "markdown",
   "id": "ff69f5c0-4766-4ea6-a847-51a13d30b8e4",
   "metadata": {},
   "source": [
    "__Solución__"
   ]
  },
  {
   "cell_type": "markdown",
   "id": "015b21d9-3a25-4d6e-b5bc-7900b3e812d0",
   "metadata": {},
   "source": [
    "El problema nos habla de un grupo de conductores entre los cuales hay conductores de 3 tipos: de bajo riesgo, de riesgo moderado y de alto riesgo. Entonces es natural modelar el problema con una distribución multinomial.\n",
    "\n",
    "Sean $X, Y, Z$ el número de conductores de bajo riesgo, de riesgo moderado y de alto riesgo en el grupo seleccionado, respectivamente.\n",
    "\n",
    "Notemos que $X, Y$ y $Z$ son variables aleatorias, pues no sabemos cuántos condutores de cada tipo habrá en el grupo de 4 conductores seleccionado.\n",
    "\n",
    "Como el grupo seleccionado es de 4 conductores, los posibles valores para $X, Y$ y  $Z$ (es decir, sus soportes) son:\n",
    "\n",
    "- $sop(X) = \\{0,1,2,3,4\\}$\n",
    "- $sop(Y) = \\{0,1,2,3,4\\}$\n",
    "- $sop(Z) = \\{0,1,2,3,4\\}$"
   ]
  },
  {
   "cell_type": "code",
   "execution_count": 7,
   "id": "80543f24-d3fa-4bcc-9e01-a145d9159242",
   "metadata": {},
   "outputs": [],
   "source": [
    "# Importamos las librerias a usar\n",
    "\n",
    "import numpy as np\n",
    "import scipy.stats as stats\n",
    "from itertools import product\n"
   ]
  },
  {
   "cell_type": "code",
   "execution_count": 5,
   "id": "805e2976-5031-4e55-9faf-ba1b8529de42",
   "metadata": {},
   "outputs": [
    {
     "data": {
      "text/plain": [
       "array([0, 1, 2, 3, 4])"
      ]
     },
     "execution_count": 5,
     "metadata": {},
     "output_type": "execute_result"
    }
   ],
   "source": [
    "# Definimos los soportes\n",
    "\n",
    "sop_x = np.arange(0, 5)\n",
    "sop_y = np.arange(0, 5)\n",
    "sop_z = np.arange(0, 5)\n"
   ]
  },
  {
   "cell_type": "markdown",
   "id": "af1effd7-0ff0-426f-a8b1-057e1a03730c",
   "metadata": {},
   "source": [
    "Por ejemplo, si de los 4 conductores seleccionados hay 2 de bajo riesgo, $X=2$, y dos de riesgo moderado, $Y = 2$, entonces debe haber 0 de alto riesgo, $Z=0$.\n",
    "\n",
    "Es decir, se debe cumplir que $X+Y+Z=4$.\n",
    "\n",
    "Como ya se mencionó, el modelo apropiado para este problema es multinomial con $n = 4$:\n",
    "$$\n",
    "    f_{X,Y,Z} (x,y,z) = \\mathbb{P}(X=x, Y=y, Z=z) = \\frac{n!}{x!y!z!} p_1^x p_2^y p_3^z\n",
    "$$\n",
    "Además conocemos quiénes son $p_1, p_2 \\text{ y } p_3$, pues por hipótesis sabemos que de entre todos los conductores interesados en sacar su primer permiso para conducir, el $50\\%$ es de bajo riesgo, el $30\\%$ es de riesgo moderado y el $20\\%$ es de alto riesgo, es decir:\n",
    "- $p_1 = 0.5$\n",
    "- $p_2 = 0.3$\n",
    "- $p_3 = 0.2$\n"
   ]
  },
  {
   "cell_type": "code",
   "execution_count": 6,
   "id": "ff259514-cbf1-45c1-9e33-07813c27f66c",
   "metadata": {},
   "outputs": [],
   "source": [
    "# Definimos las p_i's\n",
    "p_1 = 0.5\n",
    "p_2 = 0.3\n",
    "p_3 = 0.2"
   ]
  },
  {
   "cell_type": "markdown",
   "id": "1c099222-3a62-487d-89f8-e1549679b967",
   "metadata": {},
   "source": [
    "Por otro lado, nos interesa calcular la probabilidad de que en el grupo de 4 personas haya al menos dos conductores de alto riesgo más que los de bajo riesgo, es decir, nos interesa\n",
    "$$\n",
    "\\mathbb{P}(Z\\geq X+2)\n",
    "$$"
   ]
  },
  {
   "cell_type": "code",
   "execution_count": null,
   "id": "95b2d1e6",
   "metadata": {},
   "outputs": [],
   "source": []
  },
  {
   "cell_type": "code",
   "execution_count": 18,
   "id": "8751a4df-faec-4d76-aac7-8c760518e553",
   "metadata": {},
   "outputs": [
    {
     "name": "stdout",
     "output_type": "stream",
     "text": [
      "0.04879999999999997\n"
     ]
    }
   ],
   "source": [
    "# Calculamos la probabilidad\n",
    "prob = 0\n",
    "for (x,y,z) in product(sop_x, sop_y, sop_z):\n",
    "    if z >= x + 2 and x + y + z == 4:\n",
    "            prob += stats.multinomial.pmf((x,y,z), n=4, p=(p_1, p_2, p_3))\n",
    "        \n",
    "print(prob)\n"
   ]
  },
  {
   "cell_type": "markdown",
   "id": "468c07a8-3425-495b-9028-a6456de84f45",
   "metadata": {},
   "source": [
    "__Segunda forma de calcular el soporte__"
   ]
  },
  {
   "cell_type": "code",
   "execution_count": 2,
   "id": "d0507df6-ca00-4894-88e2-57d146677131",
   "metadata": {},
   "outputs": [],
   "source": [
    "# Definimos soporte de f, no de X, Y y Z\n",
    "\n",
    "sop_f = [(x,y,z) for (x,y,z) in product(sop_x, sop_y, sop_z) if x + y + z == 4]\n"
   ]
  },
  {
   "cell_type": "code",
   "execution_count": null,
   "id": "d2c12d10-e512-4cde-9a54-3ce6a6bc5de6",
   "metadata": {},
   "outputs": [],
   "source": [
    "# Calculamos la probabildad\n",
    "\n",
    "prob = 0\n",
    "for (x,y,z) in sop_f:\n",
    "    if z >= x + 2:\n",
    "        prob += stats.multinomial.pmf((x,y,z), n=4, p=(p_1, p_2, p_3))\n",
    "\n",
    "print(prob)\n"
   ]
  }
 ],
 "metadata": {
  "kernelspec": {
   "display_name": "Python 3 (ipykernel)",
   "language": "python",
   "name": "python3"
  },
  "language_info": {
   "codemirror_mode": {
    "name": "ipython",
    "version": 3
   },
   "file_extension": ".py",
   "mimetype": "text/x-python",
   "name": "python",
   "nbconvert_exporter": "python",
   "pygments_lexer": "ipython3",
   "version": "3.9.10"
  }
 },
 "nbformat": 4,
 "nbformat_minor": 5
}