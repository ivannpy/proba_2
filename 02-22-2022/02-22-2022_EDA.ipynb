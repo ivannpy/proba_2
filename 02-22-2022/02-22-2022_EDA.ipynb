{
 "cells": [
  {
   "cell_type": "markdown",
   "id": "9c9d5a17",
   "metadata": {
    "slideshow": {
     "slide_type": "slide"
    }
   },
   "source": [
    "<br>\n",
    "<br>\n",
    "<br>\n",
    "<br>\n",
    "<br>\n",
    "<h1 style='text-align: center; \n",
    "          font-family:courier;\n",
    "          font-size:3em; \n",
    "          color:black;'> \n",
    "    Análisis exploratorio de datos\n",
    "</h1>\n",
    "<br>\n",
    "<br>\n",
    "<h4 style='text-align:left; \n",
    "          font-family:courier;\n",
    "          font-size:1.5em;\n",
    "          color:black; '>\n",
    "    Probabilidad 2<br>\n",
    "    Grupo: 9043\n",
    "</h4>\n",
    "<br>\n",
    "<br>\n",
    "<br>\n",
    "<br>"
   ]
  },
  {
   "cell_type": "markdown",
   "id": "365df5c6",
   "metadata": {
    "slideshow": {
     "slide_type": "slide"
    }
   },
   "source": [
    "<h2 style='text-align: center; \n",
    "          font-family:monaco;\n",
    "          font-size:1.3em;'> \n",
    "    Probabilidad\n",
    "</h2>\n",
    "<p style='text-align:left; \n",
    "          font-family:monaco;\n",
    "          font-size:1.1em;'>\n",
    "Se realiza un experimento donde se conoce qué distribución o ley de probabilidad sigue.\n",
    "</p>"
   ]
  },
  {
   "cell_type": "markdown",
   "id": "b56dfa04",
   "metadata": {
    "slideshow": {
     "slide_type": "fragment"
    }
   },
   "source": [
    "<p style='text-align:left; \n",
    "          font-family:monaco;\n",
    "          font-size:1.1em; '>\n",
    "Ejemplo: Tirar un dado equilibrado (probabilidad clásica, eventos equiprobables).\n",
    "</p>"
   ]
  },
  {
   "cell_type": "markdown",
   "id": "be243df5",
   "metadata": {
    "slideshow": {
     "slide_type": "fragment"
    }
   },
   "source": [
    "<p style='text-align:left; \n",
    "          font-family:monaco;\n",
    "          font-size:1.1em;'>\n",
    "Es decir, conocemos la distribución asociada a la variable aleatoria $X$, donde $X$ denota el resultado de tirar un dado.\n",
    "</p>"
   ]
  },
  {
   "cell_type": "markdown",
   "id": "14e0a50e",
   "metadata": {
    "slideshow": {
     "slide_type": "subslide"
    }
   },
   "source": [
    "<p style='text-align:left; \n",
    "          font-family:monaco;\n",
    "          font-size:1.1em;'>\n",
    "Una vez que conocemos la distribución asociada al experimento aleatorio, podemos generar números (pseudo)aleatorios que sigan dicha distribución.\n",
    "</p>"
   ]
  },
  {
   "cell_type": "markdown",
   "id": "c6a79a8f",
   "metadata": {
    "slideshow": {
     "slide_type": "fragment"
    }
   },
   "source": [
    "<p style='text-align:left; \n",
    "          font-family:monaco;\n",
    "          font-size:1.1em;'>\n",
    "    Por ejemplo:\n",
    "</p>"
   ]
  },
  {
   "cell_type": "code",
   "execution_count": 15,
   "id": "7625d6d6",
   "metadata": {
    "slideshow": {
     "slide_type": "skip"
    }
   },
   "outputs": [],
   "source": [
    "import numpy as np\n",
    "import matplotlib.pyplot as plt\n",
    "np.set_printoptions(precision=2, )"
   ]
  },
  {
   "cell_type": "code",
   "execution_count": 4,
   "id": "6964b802",
   "metadata": {
    "slideshow": {
     "slide_type": "skip"
    }
   },
   "outputs": [],
   "source": [
    "dice_data = np.random.choice([1,2,3,4,5,6], size=15)"
   ]
  },
  {
   "cell_type": "code",
   "execution_count": 7,
   "id": "6316f660",
   "metadata": {
    "slideshow": {
     "slide_type": "fragment"
    }
   },
   "outputs": [
    {
     "name": "stdout",
     "output_type": "stream",
     "text": [
      "[3 4 5 4 2 1 3 2 1 4 2 2 2 5 5]\n"
     ]
    }
   ],
   "source": [
    "print(dice_data)"
   ]
  },
  {
   "cell_type": "markdown",
   "id": "79bcebc1",
   "metadata": {
    "slideshow": {
     "slide_type": "slide"
    }
   },
   "source": [
    "<p style='text-align:left; \n",
    "          font-family:monaco;\n",
    "          font-size:1.1em;'>\n",
    "    ¿Qué pasa si consideramos el <font color='blue'>problema inverso</font>?\n",
    "</p>"
   ]
  },
  {
   "cell_type": "markdown",
   "id": "d581491e",
   "metadata": {
    "slideshow": {
     "slide_type": "fragment"
    }
   },
   "source": [
    "<p style='text-align:left; \n",
    "          font-family:monaco;\n",
    "          font-size:1.1em;'>\n",
    "    Es decir, si partimos de un conjunto de datos, ¿qué podemos hacer para saber, al menos intuitivamente, qué distribución siguen?\n",
    "</p>"
   ]
  },
  {
   "cell_type": "markdown",
   "id": "8a2f6567",
   "metadata": {
    "slideshow": {
     "slide_type": "subslide"
    }
   },
   "source": [
    "<p style='text-align:left; \n",
    "          font-family:monaco;\n",
    "          font-size:1.1em;'>\n",
    "    Por ejemplo, consideremos los siguientes datos medidos en algún experimento:\n",
    "</p>"
   ]
  },
  {
   "cell_type": "code",
   "execution_count": 13,
   "id": "c8d7201f",
   "metadata": {
    "slideshow": {
     "slide_type": "skip"
    }
   },
   "outputs": [],
   "source": [
    "unknow_data = np.random.normal(loc=4, scale=2, size=100)"
   ]
  },
  {
   "cell_type": "code",
   "execution_count": 14,
   "id": "29fcdfe2",
   "metadata": {
    "slideshow": {
     "slide_type": "fragment"
    }
   },
   "outputs": [
    {
     "name": "stdout",
     "output_type": "stream",
     "text": [
      "[ 3.17  7.14  2.52  4.79  7.28  4.16  3.04  4.97  3.53  5.55  2.3   5.87\n",
      "  5.23  5.5   5.11  3.99  6.13  4.21  6.46  2.75  4.44  5.55  3.86  5.86\n",
      "  6.83  6.39  5.08  6.88  5.37  6.2   3.2   3.3   4.71  5.48  0.67  2.03\n",
      "  5.97  4.91  4.82  2.59  3.05  2.96  3.38  5.28  3.56  3.62  7.09  5.36\n",
      "  0.27  5.39  0.02  7.38  5.26  3.39  5.18 -1.44  1.44  2.67  2.58  4.35\n",
      "  6.88  2.89  9.12  2.33  4.8   7.95  4.9   4.52  1.5   3.24  4.64  2.12\n",
      "  2.51  6.05  7.9   6.4   3.16  4.32  6.11  7.16  4.14  6.9   1.79  4.74\n",
      "  3.72  4.13  2.91  5.93  3.95  4.09  5.02  2.59  1.21  2.59  1.56  2.47\n",
      "  3.37  5.76  4.49  3.58]\n"
     ]
    }
   ],
   "source": [
    "print(unknow_data)"
   ]
  },
  {
   "cell_type": "markdown",
   "id": "28929c41",
   "metadata": {
    "slideshow": {
     "slide_type": "subslide"
    }
   },
   "source": [
    "<p style='text-align:left; \n",
    "          font-family:monaco;\n",
    "          font-size:1.1em;'>\n",
    "    ¿Qué distribución o modelo siguen?\n",
    "</p>"
   ]
  },
  {
   "cell_type": "markdown",
   "id": "b5a77977",
   "metadata": {
    "slideshow": {
     "slide_type": "slide"
    }
   },
   "source": [
    "<h2 style='text-align:center; \n",
    "          font-family:monaco;\n",
    "          font-size:1.3em;\n",
    "          color:blue; '>\n",
    "    Suposiciones \n",
    "</h2>\n"
   ]
  },
  {
   "cell_type": "markdown",
   "id": "7bb1e6a8",
   "metadata": {
    "slideshow": {
     "slide_type": "fragment"
    }
   },
   "source": [
    "<p style='text-align:left; \n",
    "          font-family:monaco;\n",
    "          font-size:1.1em;'>\n",
    "    1. Sup. existe una variable aleatoria $X$ que genera los datos <br>\n",
    "    Es decir, la variable aleatoria toma los valores observados con alguna probabilidad.\n",
    "</p>"
   ]
  },
  {
   "cell_type": "markdown",
   "id": "406dd9fc",
   "metadata": {
    "slideshow": {
     "slide_type": "fragment"
    }
   },
   "source": [
    "<p style='text-align:left; \n",
    "          font-family:monaco;\n",
    "          font-size:1.1em;'>\n",
    "    2. Entonces podemos considerar que los $n=100$ valores observados son la realización de $n$ variables aleatorias independientes e indénticamente distribuidas $X_1,...,X_n$.\n",
    "</p>"
   ]
  },
  {
   "cell_type": "markdown",
   "id": "7cb41160",
   "metadata": {
    "slideshow": {
     "slide_type": "fragment"
    }
   },
   "source": [
    "<p style='text-align:left; \n",
    "          font-family:monaco;\n",
    "          font-size:1.1em;'>\n",
    "    3. Existe un modelo (una distribución) tal que $\\forall i \\in \\{1,...,n \\}$, $X_i \\sim F$.\n",
    "</p>"
   ]
  },
  {
   "cell_type": "markdown",
   "id": "a2e60ad4",
   "metadata": {
    "slideshow": {
     "slide_type": "fragment"
    }
   },
   "source": [
    "<p style='text-align:left; \n",
    "          font-family:monaco;\n",
    "          font-size:1.1em;'>\n",
    "    Obs: a priori no conocemos la forma de la distribución $F$.\n",
    "</p>"
   ]
  },
  {
   "cell_type": "markdown",
   "id": "5b93202a",
   "metadata": {
    "slideshow": {
     "slide_type": "fragment"
    }
   },
   "source": [
    "<p style='text-align:left; \n",
    "          font-family:monaco;\n",
    "          font-size:1.1em;'>\n",
    "    Nota: Al conjunto de datos observado de un experimento aleatorio se le llama <font color='orangered'> muestra aletoria </font> y se denota como $\\{x_1, \\dots , x_n \\}$.\n",
    "</p>"
   ]
  },
  {
   "cell_type": "markdown",
   "id": "88a0ccd5",
   "metadata": {
    "slideshow": {
     "slide_type": "slide"
    }
   },
   "source": [
    "<p style='text-align:left; \n",
    "          font-family:monaco;\n",
    "          font-size:1.1em;'>\n",
    "    Hay dos formas de atacar este problema:\n",
    "</p>"
   ]
  },
  {
   "cell_type": "markdown",
   "id": "46914fa8",
   "metadata": {
    "slideshow": {
     "slide_type": "subslide"
    }
   },
   "source": [
    "<p style='text-align:left; \n",
    "          font-family:monaco;\n",
    "          font-size:1.1em;'>\n",
    "    <ul style='text-align:left; \n",
    "          font-family:monaco;\n",
    "          font-size:1.1em;'>\n",
    "        <li>Numérica</li>\n",
    "        <ul style='text-align:left; \n",
    "          font-family:monaco;\n",
    "          font-size:1em;'>\n",
    "            <li> Localización (medidas de tendencia central)</li> <br>\n",
    "            - Media $\\mu = \\mathbb{E}(X)$ : centro de masa. <br>\n",
    "            - Moda $arg sup_{x \\in \\mathcal{X}} f(x)$ : máximo global. <br>\n",
    "            - Mediana $m = inf \\left\\{x \\in \\mathbb{R}: F(x) \\geq \\frac{1}{2} \\right\\}$ : punto que divide a la densidad en dos partes iguales.\n",
    "        </ul>\n",
    "    </ul>\n",
    "</p>"
   ]
  },
  {
   "attachments": {
    "media_mediana_moda.png": {
     "image/png": "[encoded data removed]"
    }
   },
   "cell_type": "markdown",
   "id": "e1b9c62c",
   "metadata": {
    "slideshow": {
     "slide_type": "fragment"
    }
   },
   "source": [
    "![media_mediana_moda.png](attachment:media_mediana_moda.png)"
   ]
  },
  {
   "cell_type": "markdown",
   "id": "54b663fc",
   "metadata": {
    "slideshow": {
     "slide_type": "subslide"
    }
   },
   "source": [
    "<p style='text-align:left; \n",
    "          font-family:monaco;\n",
    "          font-size:1.1em;'>\n",
    "    <ul style='text-align:left; \n",
    "          font-family:monaco;\n",
    "          font-size:1.1em;'>\n",
    "        <li>Numérica</li>\n",
    "        <ul style='text-align:left; \n",
    "          font-family:monaco;\n",
    "          font-size:0.9em;'>\n",
    "            <li> Dispersión.</li> <br>\n",
    "            - Varianza $\\mathbb{V}ar = \\mathbb{E}[(X- \\mathbb{E}(X))^2]$ : qué tanto se dispersan/alejan los valores de la media. <br>\n",
    "            - Rango Intercuartil <br> $$IQR = inf \\left\\{x \\in \\mathbb{R}: F(x)\\geq \\frac{3}{4} \\right\\} - inf \\left\\{ x \\in \\mathbb{R}: F(x) \\geq \\frac{1}{4} \\right\\}$$ <br>: mide la longitud del intervalo más central que contiene el $50\\%$  de la distribución.\n",
    "        </ul>\n",
    "    </ul>\n",
    "</p>"
   ]
  },
  {
   "cell_type": "markdown",
   "id": "e8cd0b93",
   "metadata": {
    "slideshow": {
     "slide_type": "fragment"
    }
   },
   "source": [
    "<p style='text-align:left; \n",
    "          font-family:monaco;\n",
    "          font-size:1.1em;'>\n",
    "    <ul style='text-align:left; \n",
    "          font-family:monaco;\n",
    "          font-size:1.1em;'>\n",
    "        <li>Numérica</li>\n",
    "        <ul style='text-align:left; \n",
    "          font-family:monaco;\n",
    "          font-size:1em;'>\n",
    "            <li> Simetría.</li>\n",
    "            <li> Comportamiento de las colas.</li>\n",
    "        </ul>\n",
    "    </ul>\n",
    "</p>"
   ]
  },
  {
   "cell_type": "markdown",
   "id": "e0a11a9d",
   "metadata": {
    "slideshow": {
     "slide_type": "subslide"
    }
   },
   "source": [
    "<p style='text-align:left; \n",
    "          font-family:monaco;\n",
    "          font-size:1.1em;'>\n",
    "    <ul style='text-align:left; \n",
    "          font-family:monaco;\n",
    "          font-size:1.1em;'>\n",
    "        <li>Gráfica</li>\n",
    "        <ul style='text-align:left; \n",
    "          font-family:monaco;\n",
    "          font-size:1em;'>\n",
    "            <li> Histograma.</li>\n",
    "            <li> Boxplot.</li>\n",
    "        </ul>\n",
    "    </ul>\n",
    "</p>"
   ]
  },
  {
   "cell_type": "markdown",
   "id": "b833dfe6",
   "metadata": {
    "slideshow": {
     "slide_type": "slide"
    }
   },
   "source": [
    "<h2 style='text-align:left; \n",
    "          font-family:monaco;\n",
    "          font-size:1.2em;'>\n",
    "    Ejemplo\n",
    "</h2>"
   ]
  },
  {
   "cell_type": "markdown",
   "id": "c1ab6ef4",
   "metadata": {
    "slideshow": {
     "slide_type": "fragment"
    }
   },
   "source": [
    "<p style='text-align:left; \n",
    "          font-family:monaco;\n",
    "          font-size:1.1em;'>\n",
    "    Sea $T \\sim \\exp (\\lambda)$.\n",
    "</p>"
   ]
  },
  {
   "cell_type": "markdown",
   "id": "3d20baed",
   "metadata": {
    "slideshow": {
     "slide_type": "fragment"
    }
   },
   "source": [
    "<p style='text-align:left; \n",
    "          font-family:monaco;\n",
    "          font-size:1.1em;'>\n",
    "    Es decir $f_T (t) = \\lambda e^{-\\lambda t}$, $sop(T) = \\mathbb{R}^{+} \\cup \\{0\\}$ y $\\lambda \\in \\mathbb{R}^{+}$\n",
    "</p>"
   ]
  },
  {
   "cell_type": "markdown",
   "id": "b139eaa2",
   "metadata": {
    "slideshow": {
     "slide_type": "fragment"
    }
   },
   "source": [
    "<p style='text-align:left; \n",
    "          font-family:monaco;\n",
    "          font-size:1.1em;'>\n",
    "    Entonces\n",
    "</p>"
   ]
  },
  {
   "cell_type": "markdown",
   "id": "9c1c1e11",
   "metadata": {
    "slideshow": {
     "slide_type": "fragment"
    }
   },
   "source": [
    "<p style='text-align:left; \n",
    "          font-family:monaco;\n",
    "          font-size:1.1em;'>\n",
    "    Media: <br>\n",
    "    \\begin{align*}\n",
    "        \\mu = \\mathbb{E}(X) &= \\int _{\\mathbb{R}} t f_T(t)dt \\\\\n",
    "        &= \\int _{0} ^{\\infty} t f_T(t)dt \\\\\n",
    "        &= \\int _{0} ^{\\infty} t \\lambda e^{-\\lambda t} dt \\\\\n",
    "        &= \\frac{1}{\\lambda}\n",
    "    \\end{align*}\n",
    "</p>"
   ]
  },
  {
   "cell_type": "markdown",
   "id": "bef55897",
   "metadata": {
    "slideshow": {
     "slide_type": "subslide"
    }
   },
   "source": [
    "<p style='text-align:left; \n",
    "          font-family:monaco;\n",
    "          font-size:1.1em;'>\n",
    "    Moda: <br>\n",
    "    \\begin{align*}\n",
    "        \\bar{m} &= arg sup_{x \\in \\mathcal{X}} f(x)\\\\\n",
    "        &= 0\n",
    "    \\end{align*}\n",
    "</p>"
   ]
  },
  {
   "cell_type": "markdown",
   "id": "501fd0fe",
   "metadata": {
    "slideshow": {
     "slide_type": "subslide"
    }
   },
   "source": [
    "<p style='text-align:left; \n",
    "          font-family:monaco;\n",
    "          font-size:1.1em;'>\n",
    "    Mediana: <br>\n",
    "    \\begin{align*}\n",
    "        m &= inf \\left\\{x \\in \\mathbb{R}: F(x) \\geq \\frac{1}{2} \\right\\}\\\\\n",
    "        &= \\frac{\\ln 2}{\\lambda}\n",
    "    \\end{align*}\n",
    "</p>"
   ]
  },
  {
   "cell_type": "markdown",
   "id": "22b77d98",
   "metadata": {
    "slideshow": {
     "slide_type": "subslide"
    }
   },
   "source": [
    "<h2 style='text-align:left; \n",
    "          font-family:monaco;\n",
    "          font-size:1.1em;'>\n",
    "    Tarea moral:\n",
    "    Calcula $\\mathbb{V}ar(X)$ e $IQR$ \n",
    "</h2>"
   ]
  },
  {
   "cell_type": "markdown",
   "id": "11cf2ee1",
   "metadata": {
    "slideshow": {
     "slide_type": "slide"
    }
   },
   "source": [
    "<h2 style='text-align:left; \n",
    "          font-family:monaco;\n",
    "          font-size:1.2em;'>\n",
    "    Regresando a los datos que teníamos...\n",
    "</h2>"
   ]
  },
  {
   "cell_type": "markdown",
   "id": "d9856923",
   "metadata": {
    "slideshow": {
     "slide_type": "fragment"
    }
   },
   "source": [
    "<p style='text-align:left; \n",
    "          font-family:monaco;\n",
    "          font-size:1.1em;'>\n",
    "    Como no conocemos la distribución que genera los datos, tenemos que definir cantidades muestrales (es decir, de la muestra).\n",
    "</p>"
   ]
  },
  {
   "cell_type": "markdown",
   "id": "c8d283f9",
   "metadata": {
    "slideshow": {
     "slide_type": "subslide"
    }
   },
   "source": [
    "<p style='text-align:left; \n",
    "          font-family:monaco;\n",
    "          font-size:1.1em;'>\n",
    "    - Muestra ordenada $$\\min\\{x_1,\\dots,x_n\\}= x_{(1)} \\leq x_{(2)} \\leq \\dots \\leq x_{(n)} = \\max \\{x_1,\\dots, x_n \\}$$ <br>\n",
    "    - Media muestral $$\\bar{x} := \\frac{1}{n} \\sum _{i=1} ^{n} x_i$$ <br>\n",
    "    - Mediana muestral $$ M = \\begin{cases} x_{\\left(\\frac{n+1}{2}\\right)} \\hspace{0.2 cm} \\mbox{ si $n$ es impar} \\\\ \\\\ \\frac{x_{\\left(\\frac{n}{2}\\right)} \\hspace{0.2 cm} + \\hspace{0.2 cm} x_{\\left(\\frac{n}{2}+1 \\right)}}{2} \\hspace{0.2 cm} \\mbox{ si $n$ es par } \\end{cases}$$ <br>\n",
    "</p>"
   ]
  },
  {
   "cell_type": "markdown",
   "id": "b8280125",
   "metadata": {
    "slideshow": {
     "slide_type": "subslide"
    }
   },
   "source": [
    "<p style='text-align:left; \n",
    "          font-family:monaco;\n",
    "          font-size:1.1em;'>\n",
    "    - Varianza muestral $$\\hat{\\sigma}^2 = \\frac{1}{n} \\sum _{i=1}^{n} (x_i - \\bar{x})^2$$ <br>\n",
    "    - El primer cuartil $Q_1$ es la mediana de $$x_{(1)}, \\dots, M$$ <br>\n",
    "    - El segundo cuartil $Q_2 = M$ coincide con la mediana de toda la muestra.<br>\n",
    "    - El tercer cuartil $Q_3$ es la mediana de $$M, \\dots, x_{(n)}$$ <br>\n",
    "    - Rango intercuartil: $IQR = Q_3 - Q_1$ <br>\n",
    "    - Un outlier es una observación (es decir, algún valor $x_i$) que está fuera del intervalo $\\left[Q_1 - \\frac{3}{2}IQR, Q_3 + \\frac{3}{2}IQR \\right]$\n",
    "</p>"
   ]
  },
  {
   "cell_type": "markdown",
   "id": "640d1bdf",
   "metadata": {
    "slideshow": {
     "slide_type": "slide"
    }
   },
   "source": [
    "<p style='text-align:left; \n",
    "          font-family:monaco;\n",
    "          font-size:1.1em;\n",
    "          color:red'>\n",
    "    Malas noticias...\n",
    "</p>"
   ]
  },
  {
   "cell_type": "markdown",
   "id": "37e020b9",
   "metadata": {
    "slideshow": {
     "slide_type": "fragment"
    }
   },
   "source": [
    "<p style='text-align:left; \n",
    "          font-family:monaco;\n",
    "          font-size:1.1em;'>\n",
    "    Esto está fuera del alcance del curso de probabilidad 2: tendrán que esperar hasta estadística 1 y estadística 2 para resolver el problema planteado de manera satisfactoria.\n",
    "</p>"
   ]
  }
 ],
 "metadata": {
  "celltoolbar": "Slideshow",
  "kernelspec": {
   "display_name": "Python 3 (ipykernel)",
   "language": "python",
   "name": "python3"
  },
  "language_info": {
   "codemirror_mode": {
    "name": "ipython",
    "version": 3
   },
   "file_extension": ".py",
   "mimetype": "text/x-python",
   "name": "python",
   "nbconvert_exporter": "python",
   "pygments_lexer": "ipython3",
   "version": "3.8.12"
  }
 },
 "nbformat": 4,
 "nbformat_minor": 5
}
