{
 "cells": [
  {
   "cell_type": "markdown",
   "metadata": {
    "datalore": {
     "hide_input_from_viewers": false,
     "hide_output_from_viewers": false,
     "type": "MD"
    }
   },
   "source": [
    "<br>\n",
    "<br>\n",
    "<br>\n",
    "<br>\n",
    "<br>\n",
    "<h1 style='text-align: center;\n",
    "          font-family:courier;\n",
    "          font-size:2em; \n",
    "          color:black;'> \n",
    "   Regresión logística binaria\n",
    "</h1>\n",
    "<br>\n",
    "<h3 style='text-align:center; \n",
    "          font-family:courier;\n",
    "          font-size:1.5em;\n",
    "          color:black; '>\n",
    "    Probabilidad 2 <br>\n",
    "    Grupo: 9043 <br>\n",
    "</h3>\n",
    "<br>\n",
    "<h4 style='text-align:left; \n",
    "          font-family:courier;\n",
    "          font-size:1.5em;\n",
    "          color:black; '>\n",
    "    Por: Jorge Iván Reyes Hernández\n",
    "</h4>\n",
    "<br>\n",
    "<br>\n",
    "<br>"
   ]
  },
  {
   "cell_type": "markdown",
   "metadata": {
    "datalore": {
     "hide_input_from_viewers": false,
     "hide_output_from_viewers": false,
     "type": "MD"
    }
   },
   "source": [
    "<h2 style='text-align:left; \n",
    "          font-family:serif;\n",
    "          font-size:2em;\n",
    "          color:black; '>\n",
    "    Ejercicio\n",
    "</h2>\n",
    "\n",
    "<p style='text-align:left; \n",
    "          font-family:serif;\n",
    "          font-size:1.3em;\n",
    "          color:black; '>\n",
    "    En 1986, el transbordador espacial Challenger explotó durante el despegue, matando a los siete astronautas que iban a bordo. La explosión fue el resultado de un fallo en la junta tórica, la rotura de un anillo de goma que sella las partes de la nave. Se cree que el accidente fue causado por el clima inusualmente frío ($31 ^o$F o $0$ $^o$C) en el momento del lanzamiento, ya que hay razones para creer que las probabilidades de fallo de la junta tórica aumentan a medida que la temperatura disminuye <br>\n",
    "    Los datos sobre los lanzamientos anteriores del transbordador espacial y los fallos de las juntas tóricas figuran en el conjunto de datos challenger proporcionado con el paquete mcsm. La primera columna corresponde a los indicadores de fallo $y_i$ y la segunda a la temperatura correspondiente $x_i$ $(1 ≤ i ≤ 24)$\n",
    "</p>"
   ]
  },
  {
   "cell_type": "markdown",
   "metadata": {
    "datalore": {
     "hide_input_from_viewers": false,
     "hide_output_from_viewers": false,
     "type": "MD"
    }
   },
   "source": [
    "<p style='text-align:left; \n",
    "          font-family:serif;\n",
    "          font-size:1.3em;\n",
    "          color:black; '>\n",
    "    1. Ajuste este conjunto de datos con una regresión logística, donde\n",
    "    $$\n",
    "        \\mathbb{P}(Y_i=1 |x_i) = p(x_i) = \\frac{\\exp(\\beta_0 + \\beta_º x_i)}{1 + \\exp(\\beta_0 + \\beta_1 x_i)}\n",
    "    $$\n",
    "    Deduce los estimadores máximo verosimiles para $\\beta_0$ y $\\beta_1$.\n",
    "</p>"
   ]
  },
  {
   "cell_type": "markdown",
   "metadata": {
    "datalore": {
     "hide_input_from_viewers": false,
     "hide_output_from_viewers": false,
     "type": "MD"
    }
   },
   "source": [
    "<h3 style='text-align:left; \n",
    "          font-family:serif;\n",
    "          font-size:1.5em;\n",
    "          color:black; '>\n",
    "    Solución\n",
    "</h3>"
   ]
  },
  {
   "cell_type": "markdown",
   "metadata": {
    "datalore": {
     "hide_input_from_viewers": false,
     "hide_output_from_viewers": false,
     "type": "MD"
    }
   },
   "source": [
    "<p style='text-align:left; \n",
    "          font-family:serif;\n",
    "          font-size:1.3em;\n",
    "          color:black; '>\n",
    "    Sea $X = \\{x_1, ..., x_n \\} \\subset \\mathbb{R}$ el conjunto de datos e $y = \\{y_1,...,y_n \\}$ $\\forall i \\in \\{1,...,n\\}$ $y_i \\in \\{ 0,1\\}$ el conjunto de varibles respuesta. <br>\n",
    "    En nuestro problema \n",
    "    $$\n",
    "    x_i : \\text{temperatura} \\\\ \n",
    "    y_i : \\text{indicador de fallo}\n",
    "    $$\n",
    "    Como las covariables $x_i$ son $1-\\text{dimensional}$, el modelo propuesto es\n",
    "    $$\n",
    "    p_i = p_i (\\vec \\beta) = \\mathbb{P}(y_i = 1 | x_i) = \\frac{\\exp(\\beta_0 + \\beta_1 x_i)}{1 + \\exp(\\beta_0 + \\beta_1 x_i)}\n",
    "    $$\n",
    "    con $\\vec \\beta = (\\beta_0, \\beta_1) \\in \\mathbb{R}^2$ el vector de parámetros. <br>\n",
    "    Como las variables respuesta son binarias, podemos considerarlas como ensayos Bernoulli:\n",
    "    $$\n",
    "    Y_i | X_i = x_i \\sim \\text{Bernoulli}(p_i)\n",
    "    $$\n",
    "    donde, por hipótesis, estamos considerando que la probabilidad de éxito de los ensayos es $p_i$, dada por el modelo de regresión logística. Entonces\n",
    "    $$\n",
    "    f_{Y|X}(Y_i | X_i = x_i) = p_i ^{y_i} (1-p_i)^{1-y_i}\n",
    "    $$\n",
    "    por lo que la función de verosimilitud es\n",
    "    $$\n",
    "    f_{Y|X}(Y_1 | X_1 = x_1,..., Y_n | X_n = x_n) = \\prod _{i=1} ^n f_{Y|X}(Y_i | X_i = x_i) = \\prod p_i ^{y_i} (1-p_i)^{1-y_i}\n",
    "    $$\n",
    "    $$\\Rightarrow \\mathcal{L} (\\vec \\beta) = \\prod p_i ^{y_i} (1-p_i)^{1-y_i}$$\n",
    "    El estimador máximo verosimil de $\\vec \\beta$ es\n",
    "    $$\n",
    "    \\hat \\beta _{ML} = \\text{arg}\\max _{\\vec \\beta \\in \\mathbb{R}^2} \\mathcal{L} (\\vec \\beta)\n",
    "    $$\n",
    "    Para encontrar los valores usaremos el paquete statsmodels de Python\n",
    "</p>"
   ]
  },
  {
   "cell_type": "markdown",
   "metadata": {
    "datalore": {
     "hide_input_from_viewers": false,
     "hide_output_from_viewers": false,
     "type": "MD"
    }
   },
   "source": [
    "<p style='text-align:left; \n",
    "          font-family:serif;\n",
    "          font-size:1.3em;\n",
    "          color:black; '>\n",
    "    Cargamos las librerias a usar\n",
    "</p>"
   ]
  },
  {
   "cell_type": "code",
   "execution_count": 2,
   "metadata": {
    "datalore": {
     "hide_input_from_viewers": false,
     "hide_output_from_viewers": false,
     "type": "CODE"
    }
   },
   "outputs": [],
   "source": [
    "from io import StringIO\n",
    "import requests\n",
    "\n",
    "import numpy as np\n",
    "import pandas as pd\n",
    "import matplotlib.pyplot as plt\n",
    "\n",
    "import scipy.stats as stats\n",
    "import statsmodels.api as sm"
   ]
  },
  {
   "cell_type": "markdown",
   "metadata": {
    "datalore": {
     "hide_input_from_viewers": false,
     "hide_output_from_viewers": false,
     "type": "MD"
    }
   },
   "source": [
    "<p style='text-align:left; \n",
    "          font-family:serif;\n",
    "          font-size:1.3em;\n",
    "          color:black; '>\n",
    "    Bajamos los datos de internet\n",
    "</p>"
   ]
  },
  {
   "cell_type": "code",
   "execution_count": 3,
   "metadata": {},
   "outputs": [
    {
     "data": {
      "text/html": [
       "<div>\n",
       "<style scoped>\n",
       "    .dataframe tbody tr th:only-of-type {\n",
       "        vertical-align: middle;\n",
       "    }\n",
       "\n",
       "    .dataframe tbody tr th {\n",
       "        vertical-align: top;\n",
       "    }\n",
       "\n",
       "    .dataframe thead th {\n",
       "        text-align: right;\n",
       "    }\n",
       "</style>\n",
       "<table border=\"1\" class=\"dataframe\">\n",
       "  <thead>\n",
       "    <tr style=\"text-align: right;\">\n",
       "      <th></th>\n",
       "      <th>o_ring_ct</th>\n",
       "      <th>distress_ct</th>\n",
       "      <th>temperature</th>\n",
       "      <th>pressure</th>\n",
       "      <th>launch_id</th>\n",
       "    </tr>\n",
       "  </thead>\n",
       "  <tbody>\n",
       "    <tr>\n",
       "      <th>0</th>\n",
       "      <td>6</td>\n",
       "      <td>0</td>\n",
       "      <td>66</td>\n",
       "      <td>50</td>\n",
       "      <td>1</td>\n",
       "    </tr>\n",
       "    <tr>\n",
       "      <th>1</th>\n",
       "      <td>6</td>\n",
       "      <td>1</td>\n",
       "      <td>70</td>\n",
       "      <td>50</td>\n",
       "      <td>2</td>\n",
       "    </tr>\n",
       "    <tr>\n",
       "      <th>2</th>\n",
       "      <td>6</td>\n",
       "      <td>0</td>\n",
       "      <td>69</td>\n",
       "      <td>50</td>\n",
       "      <td>3</td>\n",
       "    </tr>\n",
       "    <tr>\n",
       "      <th>3</th>\n",
       "      <td>6</td>\n",
       "      <td>0</td>\n",
       "      <td>68</td>\n",
       "      <td>50</td>\n",
       "      <td>4</td>\n",
       "    </tr>\n",
       "    <tr>\n",
       "      <th>4</th>\n",
       "      <td>6</td>\n",
       "      <td>0</td>\n",
       "      <td>67</td>\n",
       "      <td>50</td>\n",
       "      <td>5</td>\n",
       "    </tr>\n",
       "    <tr>\n",
       "      <th>5</th>\n",
       "      <td>6</td>\n",
       "      <td>0</td>\n",
       "      <td>72</td>\n",
       "      <td>50</td>\n",
       "      <td>6</td>\n",
       "    </tr>\n",
       "    <tr>\n",
       "      <th>6</th>\n",
       "      <td>6</td>\n",
       "      <td>0</td>\n",
       "      <td>73</td>\n",
       "      <td>100</td>\n",
       "      <td>7</td>\n",
       "    </tr>\n",
       "    <tr>\n",
       "      <th>7</th>\n",
       "      <td>6</td>\n",
       "      <td>0</td>\n",
       "      <td>70</td>\n",
       "      <td>100</td>\n",
       "      <td>8</td>\n",
       "    </tr>\n",
       "    <tr>\n",
       "      <th>8</th>\n",
       "      <td>6</td>\n",
       "      <td>1</td>\n",
       "      <td>57</td>\n",
       "      <td>200</td>\n",
       "      <td>9</td>\n",
       "    </tr>\n",
       "    <tr>\n",
       "      <th>9</th>\n",
       "      <td>6</td>\n",
       "      <td>1</td>\n",
       "      <td>63</td>\n",
       "      <td>200</td>\n",
       "      <td>10</td>\n",
       "    </tr>\n",
       "    <tr>\n",
       "      <th>10</th>\n",
       "      <td>6</td>\n",
       "      <td>1</td>\n",
       "      <td>70</td>\n",
       "      <td>200</td>\n",
       "      <td>11</td>\n",
       "    </tr>\n",
       "    <tr>\n",
       "      <th>11</th>\n",
       "      <td>6</td>\n",
       "      <td>0</td>\n",
       "      <td>78</td>\n",
       "      <td>200</td>\n",
       "      <td>12</td>\n",
       "    </tr>\n",
       "    <tr>\n",
       "      <th>12</th>\n",
       "      <td>6</td>\n",
       "      <td>0</td>\n",
       "      <td>67</td>\n",
       "      <td>200</td>\n",
       "      <td>13</td>\n",
       "    </tr>\n",
       "    <tr>\n",
       "      <th>13</th>\n",
       "      <td>6</td>\n",
       "      <td>2</td>\n",
       "      <td>53</td>\n",
       "      <td>200</td>\n",
       "      <td>14</td>\n",
       "    </tr>\n",
       "    <tr>\n",
       "      <th>14</th>\n",
       "      <td>6</td>\n",
       "      <td>0</td>\n",
       "      <td>67</td>\n",
       "      <td>200</td>\n",
       "      <td>15</td>\n",
       "    </tr>\n",
       "    <tr>\n",
       "      <th>15</th>\n",
       "      <td>6</td>\n",
       "      <td>0</td>\n",
       "      <td>75</td>\n",
       "      <td>200</td>\n",
       "      <td>16</td>\n",
       "    </tr>\n",
       "    <tr>\n",
       "      <th>16</th>\n",
       "      <td>6</td>\n",
       "      <td>0</td>\n",
       "      <td>70</td>\n",
       "      <td>200</td>\n",
       "      <td>17</td>\n",
       "    </tr>\n",
       "    <tr>\n",
       "      <th>17</th>\n",
       "      <td>6</td>\n",
       "      <td>0</td>\n",
       "      <td>81</td>\n",
       "      <td>200</td>\n",
       "      <td>18</td>\n",
       "    </tr>\n",
       "    <tr>\n",
       "      <th>18</th>\n",
       "      <td>6</td>\n",
       "      <td>0</td>\n",
       "      <td>76</td>\n",
       "      <td>200</td>\n",
       "      <td>19</td>\n",
       "    </tr>\n",
       "    <tr>\n",
       "      <th>19</th>\n",
       "      <td>6</td>\n",
       "      <td>0</td>\n",
       "      <td>79</td>\n",
       "      <td>200</td>\n",
       "      <td>20</td>\n",
       "    </tr>\n",
       "    <tr>\n",
       "      <th>20</th>\n",
       "      <td>6</td>\n",
       "      <td>0</td>\n",
       "      <td>75</td>\n",
       "      <td>200</td>\n",
       "      <td>21</td>\n",
       "    </tr>\n",
       "    <tr>\n",
       "      <th>21</th>\n",
       "      <td>6</td>\n",
       "      <td>0</td>\n",
       "      <td>76</td>\n",
       "      <td>200</td>\n",
       "      <td>22</td>\n",
       "    </tr>\n",
       "    <tr>\n",
       "      <th>22</th>\n",
       "      <td>6</td>\n",
       "      <td>1</td>\n",
       "      <td>58</td>\n",
       "      <td>200</td>\n",
       "      <td>23</td>\n",
       "    </tr>\n",
       "  </tbody>\n",
       "</table>\n",
       "</div>"
      ],
      "text/plain": [
       "    o_ring_ct  distress_ct  temperature  pressure  launch_id\n",
       "0           6            0           66        50          1\n",
       "1           6            1           70        50          2\n",
       "2           6            0           69        50          3\n",
       "3           6            0           68        50          4\n",
       "4           6            0           67        50          5\n",
       "5           6            0           72        50          6\n",
       "6           6            0           73       100          7\n",
       "7           6            0           70       100          8\n",
       "8           6            1           57       200          9\n",
       "9           6            1           63       200         10\n",
       "10          6            1           70       200         11\n",
       "11          6            0           78       200         12\n",
       "12          6            0           67       200         13\n",
       "13          6            2           53       200         14\n",
       "14          6            0           67       200         15\n",
       "15          6            0           75       200         16\n",
       "16          6            0           70       200         17\n",
       "17          6            0           81       200         18\n",
       "18          6            0           76       200         19\n",
       "19          6            0           79       200         20\n",
       "20          6            0           75       200         21\n",
       "21          6            0           76       200         22\n",
       "22          6            1           58       200         23"
      ]
     },
     "execution_count": 3,
     "metadata": {},
     "output_type": "execute_result"
    }
   ],
   "source": [
    "url = 'https://raw.githubusercontent.com/stedy/Machine-Learning-with-R-datasets/master/challenger.csv'\n",
    "s = requests.get(url).text\n",
    "\n",
    "dataset = pd.read_csv(StringIO(s))\n",
    "dataset"
   ]
  },
  {
   "cell_type": "code",
   "execution_count": 4,
   "metadata": {
    "datalore": {
     "hide_input_from_viewers": false,
     "hide_output_from_viewers": false,
     "type": "CODE"
    }
   },
   "outputs": [
    {
     "data": {
      "text/html": [
       "<div>\n",
       "<style scoped>\n",
       "    .dataframe tbody tr th:only-of-type {\n",
       "        vertical-align: middle;\n",
       "    }\n",
       "\n",
       "    .dataframe tbody tr th {\n",
       "        vertical-align: top;\n",
       "    }\n",
       "\n",
       "    .dataframe thead th {\n",
       "        text-align: right;\n",
       "    }\n",
       "</style>\n",
       "<table border=\"1\" class=\"dataframe\">\n",
       "  <thead>\n",
       "    <tr style=\"text-align: right;\">\n",
       "      <th></th>\n",
       "      <th>o_ring_ct</th>\n",
       "      <th>distress_ct</th>\n",
       "      <th>temperature</th>\n",
       "      <th>pressure</th>\n",
       "      <th>launch_id</th>\n",
       "    </tr>\n",
       "  </thead>\n",
       "  <tbody>\n",
       "    <tr>\n",
       "      <th>0</th>\n",
       "      <td>6</td>\n",
       "      <td>0</td>\n",
       "      <td>66</td>\n",
       "      <td>50</td>\n",
       "      <td>1</td>\n",
       "    </tr>\n",
       "    <tr>\n",
       "      <th>1</th>\n",
       "      <td>6</td>\n",
       "      <td>1</td>\n",
       "      <td>70</td>\n",
       "      <td>50</td>\n",
       "      <td>1</td>\n",
       "    </tr>\n",
       "    <tr>\n",
       "      <th>2</th>\n",
       "      <td>6</td>\n",
       "      <td>0</td>\n",
       "      <td>69</td>\n",
       "      <td>50</td>\n",
       "      <td>3</td>\n",
       "    </tr>\n",
       "    <tr>\n",
       "      <th>3</th>\n",
       "      <td>6</td>\n",
       "      <td>0</td>\n",
       "      <td>68</td>\n",
       "      <td>50</td>\n",
       "      <td>4</td>\n",
       "    </tr>\n",
       "    <tr>\n",
       "      <th>4</th>\n",
       "      <td>6</td>\n",
       "      <td>0</td>\n",
       "      <td>67</td>\n",
       "      <td>50</td>\n",
       "      <td>5</td>\n",
       "    </tr>\n",
       "    <tr>\n",
       "      <th>5</th>\n",
       "      <td>6</td>\n",
       "      <td>0</td>\n",
       "      <td>72</td>\n",
       "      <td>50</td>\n",
       "      <td>6</td>\n",
       "    </tr>\n",
       "    <tr>\n",
       "      <th>6</th>\n",
       "      <td>6</td>\n",
       "      <td>0</td>\n",
       "      <td>73</td>\n",
       "      <td>100</td>\n",
       "      <td>7</td>\n",
       "    </tr>\n",
       "    <tr>\n",
       "      <th>7</th>\n",
       "      <td>6</td>\n",
       "      <td>0</td>\n",
       "      <td>70</td>\n",
       "      <td>100</td>\n",
       "      <td>8</td>\n",
       "    </tr>\n",
       "    <tr>\n",
       "      <th>8</th>\n",
       "      <td>6</td>\n",
       "      <td>1</td>\n",
       "      <td>57</td>\n",
       "      <td>200</td>\n",
       "      <td>9</td>\n",
       "    </tr>\n",
       "    <tr>\n",
       "      <th>9</th>\n",
       "      <td>6</td>\n",
       "      <td>1</td>\n",
       "      <td>63</td>\n",
       "      <td>200</td>\n",
       "      <td>10</td>\n",
       "    </tr>\n",
       "    <tr>\n",
       "      <th>10</th>\n",
       "      <td>6</td>\n",
       "      <td>1</td>\n",
       "      <td>70</td>\n",
       "      <td>200</td>\n",
       "      <td>11</td>\n",
       "    </tr>\n",
       "    <tr>\n",
       "      <th>11</th>\n",
       "      <td>6</td>\n",
       "      <td>0</td>\n",
       "      <td>78</td>\n",
       "      <td>200</td>\n",
       "      <td>12</td>\n",
       "    </tr>\n",
       "    <tr>\n",
       "      <th>12</th>\n",
       "      <td>6</td>\n",
       "      <td>0</td>\n",
       "      <td>67</td>\n",
       "      <td>200</td>\n",
       "      <td>13</td>\n",
       "    </tr>\n",
       "    <tr>\n",
       "      <th>13</th>\n",
       "      <td>6</td>\n",
       "      <td>1</td>\n",
       "      <td>53</td>\n",
       "      <td>200</td>\n",
       "      <td>14</td>\n",
       "    </tr>\n",
       "    <tr>\n",
       "      <th>14</th>\n",
       "      <td>6</td>\n",
       "      <td>0</td>\n",
       "      <td>67</td>\n",
       "      <td>200</td>\n",
       "      <td>15</td>\n",
       "    </tr>\n",
       "    <tr>\n",
       "      <th>15</th>\n",
       "      <td>6</td>\n",
       "      <td>0</td>\n",
       "      <td>75</td>\n",
       "      <td>200</td>\n",
       "      <td>16</td>\n",
       "    </tr>\n",
       "    <tr>\n",
       "      <th>16</th>\n",
       "      <td>6</td>\n",
       "      <td>0</td>\n",
       "      <td>70</td>\n",
       "      <td>200</td>\n",
       "      <td>17</td>\n",
       "    </tr>\n",
       "    <tr>\n",
       "      <th>17</th>\n",
       "      <td>6</td>\n",
       "      <td>0</td>\n",
       "      <td>81</td>\n",
       "      <td>200</td>\n",
       "      <td>18</td>\n",
       "    </tr>\n",
       "    <tr>\n",
       "      <th>18</th>\n",
       "      <td>6</td>\n",
       "      <td>0</td>\n",
       "      <td>76</td>\n",
       "      <td>200</td>\n",
       "      <td>19</td>\n",
       "    </tr>\n",
       "    <tr>\n",
       "      <th>19</th>\n",
       "      <td>6</td>\n",
       "      <td>0</td>\n",
       "      <td>79</td>\n",
       "      <td>200</td>\n",
       "      <td>20</td>\n",
       "    </tr>\n",
       "    <tr>\n",
       "      <th>20</th>\n",
       "      <td>6</td>\n",
       "      <td>1</td>\n",
       "      <td>75</td>\n",
       "      <td>200</td>\n",
       "      <td>21</td>\n",
       "    </tr>\n",
       "    <tr>\n",
       "      <th>21</th>\n",
       "      <td>6</td>\n",
       "      <td>0</td>\n",
       "      <td>76</td>\n",
       "      <td>200</td>\n",
       "      <td>22</td>\n",
       "    </tr>\n",
       "    <tr>\n",
       "      <th>22</th>\n",
       "      <td>6</td>\n",
       "      <td>1</td>\n",
       "      <td>58</td>\n",
       "      <td>200</td>\n",
       "      <td>23</td>\n",
       "    </tr>\n",
       "  </tbody>\n",
       "</table>\n",
       "</div>"
      ],
      "text/plain": [
       "    o_ring_ct  distress_ct  temperature  pressure  launch_id\n",
       "0           6            0           66        50          1\n",
       "1           6            1           70        50          1\n",
       "2           6            0           69        50          3\n",
       "3           6            0           68        50          4\n",
       "4           6            0           67        50          5\n",
       "5           6            0           72        50          6\n",
       "6           6            0           73       100          7\n",
       "7           6            0           70       100          8\n",
       "8           6            1           57       200          9\n",
       "9           6            1           63       200         10\n",
       "10          6            1           70       200         11\n",
       "11          6            0           78       200         12\n",
       "12          6            0           67       200         13\n",
       "13          6            1           53       200         14\n",
       "14          6            0           67       200         15\n",
       "15          6            0           75       200         16\n",
       "16          6            0           70       200         17\n",
       "17          6            0           81       200         18\n",
       "18          6            0           76       200         19\n",
       "19          6            0           79       200         20\n",
       "20          6            1           75       200         21\n",
       "21          6            0           76       200         22\n",
       "22          6            1           58       200         23"
      ]
     },
     "execution_count": 4,
     "metadata": {},
     "output_type": "execute_result"
    }
   ],
   "source": [
    "# Preprocesamiento\n",
    "dataset.replace(2, 1, inplace=True)\n",
    "dataset['distress_ct'][20] = 1\n",
    "\n",
    "dataset"
   ]
  },
  {
   "cell_type": "markdown",
   "metadata": {
    "datalore": {
     "hide_input_from_viewers": false,
     "hide_output_from_viewers": false,
     "type": "MD"
    }
   },
   "source": [
    "<p style='text-align:left; \n",
    "          font-family:serif;\n",
    "          font-size:1.3em;\n",
    "          color:black; '>\n",
    "    Una vez preprocesados, nos quedamos con los datos que nos interesan: temperatura e indicador de fallo\n",
    "</p>"
   ]
  },
  {
   "cell_type": "code",
   "execution_count": 5,
   "metadata": {},
   "outputs": [
    {
     "data": {
      "text/plain": [
       "0     66\n",
       "1     70\n",
       "2     69\n",
       "3     68\n",
       "4     67\n",
       "5     72\n",
       "6     73\n",
       "7     70\n",
       "8     57\n",
       "9     63\n",
       "10    70\n",
       "11    78\n",
       "12    67\n",
       "13    53\n",
       "14    67\n",
       "15    75\n",
       "16    70\n",
       "17    81\n",
       "18    76\n",
       "19    79\n",
       "20    75\n",
       "21    76\n",
       "22    58\n",
       "Name: temperature, dtype: int64"
      ]
     },
     "execution_count": 5,
     "metadata": {},
     "output_type": "execute_result"
    }
   ],
   "source": [
    "dataset['temperature']"
   ]
  },
  {
   "cell_type": "code",
   "execution_count": 6,
   "metadata": {},
   "outputs": [
    {
     "data": {
      "text/plain": [
       "0     0\n",
       "1     1\n",
       "2     0\n",
       "3     0\n",
       "4     0\n",
       "5     0\n",
       "6     0\n",
       "7     0\n",
       "8     1\n",
       "9     1\n",
       "10    1\n",
       "11    0\n",
       "12    0\n",
       "13    1\n",
       "14    0\n",
       "15    0\n",
       "16    0\n",
       "17    0\n",
       "18    0\n",
       "19    0\n",
       "20    1\n",
       "21    0\n",
       "22    1\n",
       "Name: distress_ct, dtype: int64"
      ]
     },
     "execution_count": 6,
     "metadata": {},
     "output_type": "execute_result"
    }
   ],
   "source": [
    "dataset['distress_ct']"
   ]
  },
  {
   "cell_type": "code",
   "execution_count": 9,
   "metadata": {
    "datalore": {
     "hide_input_from_viewers": false,
     "hide_output_from_viewers": false,
     "type": "CODE"
    }
   },
   "outputs": [],
   "source": [
    "X = np.array(dataset['temperature']).reshape(-1,1)\n",
    "y = np.array(dataset['distress_ct']).reshape(-1,)"
   ]
  },
  {
   "cell_type": "code",
   "execution_count": 10,
   "metadata": {},
   "outputs": [
    {
     "data": {
      "text/plain": [
       "array([[66],\n",
       "       [70],\n",
       "       [69],\n",
       "       [68],\n",
       "       [67],\n",
       "       [72],\n",
       "       [73],\n",
       "       [70],\n",
       "       [57],\n",
       "       [63],\n",
       "       [70],\n",
       "       [78],\n",
       "       [67],\n",
       "       [53],\n",
       "       [67],\n",
       "       [75],\n",
       "       [70],\n",
       "       [81],\n",
       "       [76],\n",
       "       [79],\n",
       "       [75],\n",
       "       [76],\n",
       "       [58]])"
      ]
     },
     "execution_count": 10,
     "metadata": {},
     "output_type": "execute_result"
    }
   ],
   "source": [
    "X"
   ]
  },
  {
   "cell_type": "code",
   "execution_count": 11,
   "metadata": {},
   "outputs": [
    {
     "data": {
      "text/plain": [
       "array([0, 1, 0, 0, 0, 0, 0, 0, 1, 1, 1, 0, 0, 1, 0, 0, 0, 0, 0, 0, 1, 0,\n",
       "       1])"
      ]
     },
     "execution_count": 11,
     "metadata": {},
     "output_type": "execute_result"
    }
   ],
   "source": [
    "y"
   ]
  },
  {
   "cell_type": "code",
   "execution_count": 12,
   "metadata": {
    "datalore": {
     "hide_input_from_viewers": false,
     "hide_output_from_viewers": false,
     "type": "CODE"
    }
   },
   "outputs": [
    {
     "data": {
      "image/png": "[encoded data removed]",
      "text/plain": [
       "<Figure size 1080x504 with 1 Axes>"
      ]
     },
     "metadata": {
      "needs_background": "light"
     },
     "output_type": "display_data"
    }
   ],
   "source": [
    "plt.figure(figsize=(15,7))\n",
    "plt.scatter(X, y, c=y)\n",
    "plt.xlabel('Temperatura')\n",
    "plt.ylabel('Indicador de fallo')\n",
    "plt.grid(True);"
   ]
  },
  {
   "cell_type": "markdown",
   "metadata": {
    "datalore": {
     "hide_input_from_viewers": false,
     "hide_output_from_viewers": false,
     "type": "MD"
    }
   },
   "source": [
    "<p style='text-align:left; \n",
    "          font-family:serif;\n",
    "          font-size:1.3em;\n",
    "          color:black; '>\n",
    "    Creamos el vector $X = [1, \\text{Temperatura}]$ y ajustamos el modelo de regresión logística usando máxima verosimilitud\n",
    "</p>"
   ]
  },
  {
   "cell_type": "code",
   "execution_count": 14,
   "metadata": {},
   "outputs": [
    {
     "data": {
      "text/plain": [
       "array([[ 1., 66.],\n",
       "       [ 1., 70.],\n",
       "       [ 1., 69.],\n",
       "       [ 1., 68.],\n",
       "       [ 1., 67.],\n",
       "       [ 1., 72.],\n",
       "       [ 1., 73.],\n",
       "       [ 1., 70.],\n",
       "       [ 1., 57.],\n",
       "       [ 1., 63.],\n",
       "       [ 1., 70.],\n",
       "       [ 1., 78.],\n",
       "       [ 1., 67.],\n",
       "       [ 1., 53.],\n",
       "       [ 1., 67.],\n",
       "       [ 1., 75.],\n",
       "       [ 1., 70.],\n",
       "       [ 1., 81.],\n",
       "       [ 1., 76.],\n",
       "       [ 1., 79.],\n",
       "       [ 1., 75.],\n",
       "       [ 1., 76.],\n",
       "       [ 1., 58.]])"
      ]
     },
     "execution_count": 14,
     "metadata": {},
     "output_type": "execute_result"
    }
   ],
   "source": [
    "X = sm.add_constant(X)\n",
    "X"
   ]
  },
  {
   "cell_type": "code",
   "execution_count": 14,
   "metadata": {
    "datalore": {
     "hide_input_from_viewers": false,
     "hide_output_from_viewers": false,
     "type": "CODE"
    }
   },
   "outputs": [
    {
     "name": "stdout",
     "output_type": "stream",
     "text": [
      "Optimization terminated successfully.\n",
      "         Current function value: 0.441635\n",
      "         Iterations 7\n"
     ]
    },
    {
     "data": {
      "text/html": [
       "<table class=\"simpletable\">\n",
       "<caption>Logit Regression Results</caption>\n",
       "<tr>\n",
       "  <th>Dep. Variable:</th>           <td>y</td>        <th>  No. Observations:  </th>  <td>    23</td> \n",
       "</tr>\n",
       "<tr>\n",
       "  <th>Model:</th>                 <td>Logit</td>      <th>  Df Residuals:      </th>  <td>    21</td> \n",
       "</tr>\n",
       "<tr>\n",
       "  <th>Method:</th>                 <td>MLE</td>       <th>  Df Model:          </th>  <td>     1</td> \n",
       "</tr>\n",
       "<tr>\n",
       "  <th>Date:</th>            <td>Mon, 25 Apr 2022</td> <th>  Pseudo R-squ.:     </th>  <td>0.2813</td> \n",
       "</tr>\n",
       "<tr>\n",
       "  <th>Time:</th>                <td>19:19:09</td>     <th>  Log-Likelihood:    </th> <td> -10.158</td>\n",
       "</tr>\n",
       "<tr>\n",
       "  <th>converged:</th>             <td>True</td>       <th>  LL-Null:           </th> <td> -14.134</td>\n",
       "</tr>\n",
       "<tr>\n",
       "  <th>Covariance Type:</th>     <td>nonrobust</td>    <th>  LLR p-value:       </th> <td>0.004804</td>\n",
       "</tr>\n",
       "</table>\n",
       "<table class=\"simpletable\">\n",
       "<tr>\n",
       "    <td></td>       <th>coef</th>     <th>std err</th>      <th>z</th>      <th>P>|z|</th>  <th>[0.025</th>    <th>0.975]</th>  \n",
       "</tr>\n",
       "<tr>\n",
       "  <th>const</th> <td>   15.0429</td> <td>    7.379</td> <td>    2.039</td> <td> 0.041</td> <td>    0.581</td> <td>   29.505</td>\n",
       "</tr>\n",
       "<tr>\n",
       "  <th>x1</th>    <td>   -0.2322</td> <td>    0.108</td> <td>   -2.145</td> <td> 0.032</td> <td>   -0.444</td> <td>   -0.020</td>\n",
       "</tr>\n",
       "</table>"
      ],
      "text/plain": [
       "<class 'statsmodels.iolib.summary.Summary'>\n",
       "\"\"\"\n",
       "                           Logit Regression Results                           \n",
       "==============================================================================\n",
       "Dep. Variable:                      y   No. Observations:                   23\n",
       "Model:                          Logit   Df Residuals:                       21\n",
       "Method:                           MLE   Df Model:                            1\n",
       "Date:                Mon, 25 Apr 2022   Pseudo R-squ.:                  0.2813\n",
       "Time:                        19:19:09   Log-Likelihood:                -10.158\n",
       "converged:                       True   LL-Null:                       -14.134\n",
       "Covariance Type:            nonrobust   LLR p-value:                  0.004804\n",
       "==============================================================================\n",
       "                 coef    std err          z      P>|z|      [0.025      0.975]\n",
       "------------------------------------------------------------------------------\n",
       "const         15.0429      7.379      2.039      0.041       0.581      29.505\n",
       "x1            -0.2322      0.108     -2.145      0.032      -0.444      -0.020\n",
       "==============================================================================\n",
       "\"\"\""
      ]
     },
     "execution_count": 14,
     "metadata": {},
     "output_type": "execute_result"
    }
   ],
   "source": [
    "model = sm.Logit(y, X)\n",
    "log_reg = model.fit()\n",
    "\n",
    "log_reg.summary()"
   ]
  },
  {
   "cell_type": "markdown",
   "metadata": {
    "datalore": {
     "hide_input_from_viewers": false,
     "hide_output_from_viewers": false,
     "type": "MD"
    }
   },
   "source": [
    "<p style='text-align:left; \n",
    "          font-family:serif;\n",
    "          font-size:1.3em;\n",
    "          color:black; '>\n",
    "    Podemos ver que los estimadores máximo verosimiles son:\n",
    "    $$\n",
    "    \\hat \\beta _{0 ML}= 15.0429 \\\\\n",
    "    \\hat \\beta_{1ML} = - 0.2322\n",
    "    $$\n",
    "    A continuación se muestra la gráfica de la regresión\n",
    "</p>"
   ]
  },
  {
   "cell_type": "code",
   "execution_count": 17,
   "metadata": {
    "datalore": {
     "hide_input_from_viewers": false,
     "hide_output_from_viewers": false,
     "type": "CODE"
    }
   },
   "outputs": [
    {
     "data": {
      "image/png": "[encoded data removed]",
      "text/plain": [
       "<Figure size 1080x504 with 1 Axes>"
      ]
     },
     "metadata": {
      "needs_background": "light"
     },
     "output_type": "display_data"
    }
   ],
   "source": [
    "beta0_ML = 15.0429\n",
    "beta1_ML = -0.2322\n",
    "\n",
    "x_dom = np.linspace(min(X[:,1]), max(X[:,1]))\n",
    "regresion = lambda beta0, beta1: np.exp(beta0 + beta1*x_dom) / (1 + np.exp(beta0 + beta1*x_dom))\n",
    "\n",
    "plt.figure(figsize=(15,7))\n",
    "plt.plot(x_dom, regresion(beta0_ML, beta1_ML), label='Curva de regresión')\n",
    "plt.scatter(X[:,1], y, c=y)\n",
    "plt.legend(prop={'size': 12})\n",
    "plt.grid(True);"
   ]
  },
  {
   "cell_type": "markdown",
   "metadata": {
    "datalore": {
     "hide_input_from_viewers": false,
     "hide_output_from_viewers": false,
     "type": "MD"
    }
   },
   "source": [
    "<p style='text-align:left; \n",
    "          font-family:serif;\n",
    "          font-size:1.3em;\n",
    "          color:black; '>\n",
    "   4. Deduzca de esta muestra una estimación de la probabilidad de fallo a $60^o$, $50^o$ y $40^o$ F.\n",
    "</p>"
   ]
  },
  {
   "cell_type": "markdown",
   "metadata": {
    "datalore": {
     "hide_input_from_viewers": false,
     "hide_output_from_viewers": false,
     "type": "MD"
    }
   },
   "source": [
    "<p style='text-align:left; \n",
    "          font-family:serif;\n",
    "          font-size:1.3em;\n",
    "          color:black; '>\n",
    "    Suponga que tenemos nuevos datos $X_{test} = \\{ 40, 50, 60\\}$. Queremos calcula la probabilidad de que a estas temperaturas, haya falla\n",
    "    $$\n",
    "    \\mathbb{P}(Y=1|X_{test})\n",
    "    $$\n",
    "</p>"
   ]
  },
  {
   "cell_type": "code",
   "execution_count": 16,
   "metadata": {
    "datalore": {
     "hide_input_from_viewers": false,
     "hide_output_from_viewers": false,
     "type": "CODE"
    }
   },
   "outputs": [
    {
     "name": "stdout",
     "output_type": "stream",
     "text": [
      "Temperatura:60\n",
      "Probabilidad de fallo (Máxima verosimilitud) 0.752\n",
      "Temperatura:50\n",
      "Probabilidad de fallo (Máxima verosimilitud) 0.969\n",
      "Temperatura:40\n",
      "Probabilidad de fallo (Máxima verosimilitud) 0.997\n"
     ]
    }
   ],
   "source": [
    "predictor = lambda x, beta0, beta1: np.exp(beta0 + beta1 * x) / (1 + np.exp(beta0 + beta1 * x))\n",
    "\n",
    "X_test = np.array([60, 50, 40])\n",
    "\n",
    "# Predicción usando los MLEs\n",
    "y_pred_ML = predictor(X_test, beta0_ML, beta1_ML)\n",
    "\n",
    "for i in range(len(X_test)):\n",
    "    print(f'Temperatura:{X_test[i]}')\n",
    "    print(f'Probabilidad de fallo (Máxima verosimilitud) {y_pred_ML[i]:.3f}')"
   ]
  },
  {
   "cell_type": "markdown",
   "metadata": {
    "datalore": {
     "hide_input_from_viewers": false,
     "hide_output_from_viewers": false,
     "type": "MD"
    }
   },
   "source": [
    "<p style='text-align:left; \n",
    "          font-family:serif;\n",
    "          font-size:1.3em;\n",
    "          color:black; '>\n",
    "    Es decir\n",
    "    $$\n",
    "    \\mathbb{P}(y = 1 | X = 40) = 0.997 \\\\\n",
    "    \\mathbb{P}(y = 1 | X = 50) = 0.969 \\\\\n",
    "    \\mathbb{P}(y = 1 | X = 60) = 0.752\n",
    "    $$\n",
    "    <br>\n",
    "    Lo que confirma que la probabilidad de fallo aumenta conforme disminuye la temperatura.\n",
    "</p>"
   ]
  }
 ],
 "metadata": {
  "datalore": {
   "computation_mode": "JUPYTER",
   "packages": [],
   "version": 1
  },
  "kernelspec": {
   "display_name": "Python 3 (ipykernel)",
   "language": "python",
   "name": "python3"
  },
  "language_info": {
   "codemirror_mode": {
    "name": "ipython",
    "version": 3
   },
   "file_extension": ".py",
   "mimetype": "text/x-python",
   "name": "python",
   "nbconvert_exporter": "python",
   "pygments_lexer": "ipython3",
   "version": "3.9.10"
  }
 },
 "nbformat": 4,
 "nbformat_minor": 4
}
