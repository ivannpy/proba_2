{
 "cells": [
  {
   "cell_type": "markdown",
   "id": "28b78b7b-b7d9-42ab-b1ac-45edf96002e3",
   "metadata": {},
   "source": [
    "## Ejercicio\n",
    "Simulación de la carrera por las miches"
   ]
  },
  {
   "cell_type": "code",
   "execution_count": 18,
   "id": "02e5be6a-c9f2-4885-a071-929e8a1deec9",
   "metadata": {},
   "outputs": [],
   "source": [
    "import scipy.stats as stats\n",
    "import matplotlib.pyplot as plt\n"
   ]
  },
  {
   "cell_type": "code",
   "execution_count": 40,
   "id": "afadb24f-ca35-40cc-96ca-1ae53ba2dba6",
   "metadata": {},
   "outputs": [],
   "source": [
    "N = 20000  # Veces que se repetirá el experimento\n"
   ]
  },
  {
   "cell_type": "code",
   "execution_count": 43,
   "id": "0af01e06-3f12-4482-a458-e7ab57bb74fd",
   "metadata": {},
   "outputs": [],
   "source": [
    "t_list = []  # Lista para guardar los valores del tiempo total\n",
    "\n",
    "for i in range(N):\n",
    "    t_1 = stats.expon.rvs(scale=1/2)  # scale=1/lambda\n",
    "    t_2 = stats.uniform.rvs(loc=0, scale=1)\n",
    "    t = t_1 + t_2  # Tiempo total\n",
    "    t_list.append(t)  # Guardamos el valor\n"
   ]
  },
  {
   "cell_type": "code",
   "execution_count": 44,
   "id": "493d5752-eb42-4fe4-ac35-6fc52c518b42",
   "metadata": {},
   "outputs": [
    {
     "data": {
      "image/png": "[encoded data removed]",
      "text/plain": [
       "<Figure size 432x288 with 1 Axes>"
      ]
     },
     "metadata": {
      "needs_background": "light"
     },
     "output_type": "display_data"
    }
   ],
   "source": [
    "plt.hist(t_list, bins=200, density=True)  # Graficamos el histograma\n",
    "plt.show()"
   ]
  },
  {
   "cell_type": "code",
   "execution_count": null,
   "id": "5f8facbe-a5d6-48e6-bcc4-10aff4a28c79",
   "metadata": {},
   "outputs": [],
   "source": [
    "# long run"
   ]
  }
 ],
 "metadata": {
  "kernelspec": {
   "display_name": "Python 3 (ipykernel)",
   "language": "python",
   "name": "python3"
  },
  "language_info": {
   "codemirror_mode": {
    "name": "ipython",
    "version": 3
   },
   "file_extension": ".py",
   "mimetype": "text/x-python",
   "name": "python",
   "nbconvert_exporter": "python",
   "pygments_lexer": "ipython3",
   "version": "3.8.12"
  }
 },
 "nbformat": 4,
 "nbformat_minor": 5
}
