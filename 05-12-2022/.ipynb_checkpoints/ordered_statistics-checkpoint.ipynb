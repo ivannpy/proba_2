{
 "cells": [
  {
   "cell_type": "markdown",
   "id": "2c0f2cd3",
   "metadata": {},
   "source": [
    "<br>\n",
    "<br>\n",
    "<br>\n",
    "<br>\n",
    "<br>\n",
    "<h1 style='text-align: center; \n",
    "          font-family:courier;\n",
    "          font-size:3em; \n",
    "          color:black;'> \n",
    "    Estadísticas de orden\n",
    "</h1>\n",
    "<br>\n",
    "<br>\n",
    "<h4 style='text-align:left; \n",
    "          font-family:courier;\n",
    "          font-size:1.5em;\n",
    "          color:black; '>\n",
    "    Probabilidad 2<br>\n",
    "    Grupo: 9043<br>\n",
    "    Por: Jorge Iván Reyes Hernández\n",
    "</h4>\n",
    "<br>\n",
    "<br>\n",
    "<br>\n",
    "<br>"
   ]
  },
  {
   "cell_type": "markdown",
   "id": "40caa8bf",
   "metadata": {},
   "source": [
    "Sea $X_1, X_2, X_3\\$ una muestra aleatoria (vaiid) de una distribución con densidad\n",
    "\n",
    "$$\n",
    "f_{X}(x) = \\mathbf{1}_{(\\theta - \\alpha, \\theta + \\beta )} \\hspace{0.1in}(x)\n",
    "$$\n",
    "\n",
    "Calcula $\\mathbb{P}[Y_2 \\in (\\theta - \\alpha, \\theta + \\beta )]$ con $\\alpha = \\beta = 0.4$ y $Y_1 < Y_2 < Y_3$ las estadísticas de orden de la muestra aleatoria.\n",
    "\n",
    "Adicionalmente suponer que $\\theta = 2$"
   ]
  },
  {
   "cell_type": "code",
   "execution_count": 1,
   "id": "e241e78f",
   "metadata": {},
   "outputs": [],
   "source": [
    "import scipy.stats as stats\n"
   ]
  },
  {
   "cell_type": "code",
   "execution_count": 2,
   "id": "06408b38",
   "metadata": {},
   "outputs": [],
   "source": [
    "alpha = 0.4\n",
    "beta = 0.4\n",
    "theta = 2\n"
   ]
  },
  {
   "cell_type": "code",
   "execution_count": 7,
   "id": "cd55d7b5",
   "metadata": {},
   "outputs": [
    {
     "data": {
      "text/plain": [
       "array([2.37994157, 2.31055854, 2.19886697])"
      ]
     },
     "execution_count": 7,
     "metadata": {},
     "output_type": "execute_result"
    }
   ],
   "source": [
    "random_sample = stats.uniform.rvs(loc=theta-0.5, scale=1, size=3)\n",
    "random_sample\n"
   ]
  },
  {
   "cell_type": "code",
   "execution_count": 8,
   "id": "af124791",
   "metadata": {},
   "outputs": [],
   "source": [
    "ordered_sample = sorted(random_sample)\n"
   ]
  },
  {
   "cell_type": "code",
   "execution_count": 9,
   "id": "fdcd7529",
   "metadata": {},
   "outputs": [
    {
     "data": {
      "text/plain": [
       "[2.198866968308673, 2.3105585405715034, 2.379941567415133]"
      ]
     },
     "execution_count": 9,
     "metadata": {},
     "output_type": "execute_result"
    }
   ],
   "source": [
    "ordered_sample\n"
   ]
  },
  {
   "cell_type": "code",
   "execution_count": 10,
   "id": "2987c93b",
   "metadata": {},
   "outputs": [
    {
     "name": "stdout",
     "output_type": "stream",
     "text": [
      "True\n"
     ]
    }
   ],
   "source": [
    "if theta - alpha < ordered_sample[1] < theta + beta:\n",
    "    print(True)\n"
   ]
  },
  {
   "cell_type": "code",
   "execution_count": 14,
   "id": "c520d9d8",
   "metadata": {},
   "outputs": [
    {
     "name": "stdout",
     "output_type": "stream",
     "text": [
      "0.953\n"
     ]
    }
   ],
   "source": [
    "N = 2000\n",
    "succ = 0\n",
    "\n",
    "for i in range(N):\n",
    "    random_sample = stats.uniform.rvs(loc=theta-0.5, scale=1, size=3)\n",
    "    ordered_sample = sorted(random_sample)\n",
    "    if theta - alpha < ordered_sample[1] < theta + beta:\n",
    "        succ += 1\n",
    "        \n",
    "print(succ / N)\n"
   ]
  },
  {
   "cell_type": "markdown",
   "id": "87fd2762",
   "metadata": {},
   "source": []
  }
 ],
 "metadata": {
  "kernelspec": {
   "display_name": "Python 3 (ipykernel)",
   "language": "python",
   "name": "python3"
  },
  "language_info": {
   "codemirror_mode": {
    "name": "ipython",
    "version": 3
   },
   "file_extension": ".py",
   "mimetype": "text/x-python",
   "name": "python",
   "nbconvert_exporter": "python",
   "pygments_lexer": "ipython3",
   "version": "3.9.10"
  }
 },
 "nbformat": 4,
 "nbformat_minor": 5
}
